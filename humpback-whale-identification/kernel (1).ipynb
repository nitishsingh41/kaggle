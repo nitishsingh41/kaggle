{
  "cells": [
    {
      "metadata": {
        "_uuid": "8f2839f25d086af736a60e9eeb907d3b93b6e0e5",
        "_cell_guid": "b1076dfc-b9ad-4769-8c92-a6c4dae69d19",
        "trusted": true
      },
      "cell_type": "code",
      "source": "#using siamese network as we are treating this as a verification problem",
      "execution_count": null,
      "outputs": []
    },
    {
      "metadata": {
        "_cell_guid": "79c7e3d0-c299-4dcb-8224-4455121ee9b0",
        "_uuid": "d629ff2d2480ee46fbb7e2d37f6b5fab8052498a",
        "trusted": true
      },
      "cell_type": "code",
      "source": "%matplotlib inline\nimport matplotlib.pyplot as plt\nfrom fastai.vision import *\nfrom fastai.metrics import accuracy_thresh\nfrom fastai.basic_data import *\nfrom torch.utils.data import DataLoader, Dataset\nfrom torch import nn\nfrom fastai.callbacks.hooks import num_features_model, model_sizes\nfrom fastai.layers import BCEWithLogitsFlat\nfrom fastai.basic_train import Learner\nfrom skimage.util import montage\nimport pandas as pd\nfrom torch import optim\nimport re\n\nfrom utils import *",
      "execution_count": null,
      "outputs": []
    },
    {
      "metadata": {
        "trusted": true,
        "_uuid": "1d5a9aab7d522e72e0449e716670380389fc4d1a"
      },
      "cell_type": "code",
      "source": "#making validationset of whales having two images\ndf = pd.read_csv('../input/train.csv')\nim_count = df[df.Id != 'new_whale'].Id.value_counts()\nim_count.name = 'sighting_count'\ndf = df.join(im_count, on='Id')\nval_fns = set(df[df.sighting_count == 2].Image)",
      "execution_count": null,
      "outputs": []
    },
    {
      "metadata": {
        "trusted": true,
        "_uuid": "8b6934dd348a9b048a4469f51f26fefbeb104000"
      },
      "cell_type": "code",
      "source": "#filename and id dictionary\nfn2label = {row[1].Image: row[1].Id for row in df.iterrows()}\npath2fn = lambda path: re.search('\\w*\\.jpg$', path).group(0)\n\nname = f'res18-siamese'",
      "execution_count": null,
      "outputs": []
    },
    {
      "metadata": {
        "trusted": true,
        "_uuid": "bd6ef2885319423a5e46a6ff00ad3b13c33f0708"
      },
      "cell_type": "code",
      "source": "SZ = 224\nBS = 64\nNUM_WORKERS = 0\nSEED=0",
      "execution_count": null,
      "outputs": []
    },
    {
      "metadata": {
        "trusted": true,
        "_uuid": "563a4b27acbfdd65941699800c8d260832801e63"
      },
      "cell_type": "code",
      "source": "#number of classes\nclasses = df.Id.unique()",
      "execution_count": null,
      "outputs": []
    },
    {
      "metadata": {
        "trusted": true,
        "_uuid": "e641b1e7ed1b4755eb4bf1cc54ddfc8247392f7e"
      },
      "cell_type": "code",
      "source": "data = (\n    ImageItemList\n        .from_df(df[df.Id != 'new_whale'], f'../input/train', cols=['Image'])\n        .split_by_valid_func(lambda path: path2fn(path) in val_fns)\n        .label_from_func(lambda path: fn2label[path2fn(path)], classes=classes)\n        .add_test(ImageItemList.from_folder(f'../input/test'))\n        .transform(get_transforms(do_flip=False), size=SZ, resize_method=ResizeMethod.SQUISH)\n         #.databunch(bs=BS, num_workers=NUM_WORKERS, path='data')\n         #.normalize(imagenet_stats)\n)",
      "execution_count": null,
      "outputs": []
    },
    {
      "metadata": {
        "trusted": true,
        "_uuid": "095f7605d06c4ced44870784cef3c133169f0964"
      },
      "cell_type": "code",
      "source": "! pip install pyfunctional",
      "execution_count": null,
      "outputs": []
    },
    {
      "metadata": {
        "trusted": true,
        "_uuid": "30945c32721c850f17989952accffb56b1f66b2c"
      },
      "cell_type": "code",
      "source": "def is_even(num): return num % 2 == 0\n\nclass TwoImDataset(Dataset):\n    def __init__(self, ds):\n        self.ds = ds\n        self.whale_ids = ds.y.items\n    def __len__(self):\n        return 2 * len(self.ds)\n    def __getitem__(self, idx):\n        if is_even(idx):\n            return self.sample_same(idx // 2)\n        else: return self.sample_different((idx-1) // 2)\n    def sample_same(self, idx):\n        whale_id = self.whale_ids[idx]        \n        candidates = list(np.where(self.whale_ids == whale_id)[0])\n        candidates.remove(idx) # dropping our current whale - we don't want to compare against an identical image!\n        \n        if len(candidates) == 0: # oops, there is only a single whale with this id in the dataset\n            return self.sample_different(idx)\n        \n        np.random.shuffle(candidates)\n        return self.construct_example(self.ds[idx][0], self.ds[candidates[0]][0], 1)\n    def sample_different(self, idx):\n        whale_id = self.whale_ids[idx]\n        candidates = list(np.where(self.whale_ids != whale_id)[0])\n        np.random.shuffle(candidates)\n        return self.construct_example(self.ds[idx][0], self.ds[candidates[0]][0], 0)\n    \n    def construct_example(self, im_A, im_B, class_idx):\n        return [im_A, im_B], class_idx",
      "execution_count": null,
      "outputs": []
    },
    {
      "metadata": {
        "trusted": true,
        "_uuid": "09e3b74a2dea2178bac3ac7f5146791110dd7b5a"
      },
      "cell_type": "code",
      "source": "train_dl = DataLoader(\n    TwoImDataset(data.train),\n    batch_size=BS,\n    shuffle=True,\n    num_workers=NUM_WORKERS\n)\nvalid_dl = DataLoader(\n    TwoImDataset(data.valid),\n    batch_size=BS,\n    shuffle=False,\n    num_workers=NUM_WORKERS\n)\n\ndata_bunch = ImageDataBunch(train_dl, valid_dl)",
      "execution_count": null,
      "outputs": []
    },
    {
      "metadata": {
        "trusted": true,
        "_uuid": "ad9879ba4a60925aadc22f0d7518ba427d7cb442"
      },
      "cell_type": "code",
      "source": "def normalize_batch(batch):\n    stat_tensors = [torch.tensor(l).cuda() for l in imagenet_stats]\n    return [normalize(batch[0][0], *stat_tensors), normalize(batch[0][1], *stat_tensors)], batch[1]",
      "execution_count": null,
      "outputs": []
    },
    {
      "metadata": {
        "trusted": true,
        "_uuid": "aedc105b43aab0259aac9ae607ea431ad68dbdcc"
      },
      "cell_type": "code",
      "source": "data_bunch.add_tfm(normalize_batch)",
      "execution_count": null,
      "outputs": []
    },
    {
      "metadata": {
        "trusted": true,
        "_uuid": "421b5fc55c5e25cfc47593050b5ad552e3c37884"
      },
      "cell_type": "code",
      "source": "#siamese model\nfrom functional import seq\n\nclass SiameseNetwork(nn.Module):\n    def __init__(self, arch=models.resnet18):\n        super().__init__() \n        self.cnn = create_body(arch)\n        self.head = nn.Linear(num_features_model(self.cnn), 1)\n        \n    def forward(self, im_A, im_B):\n        # dl - distance layer\n        x1, x2 = seq(im_A, im_B).map(self.cnn).map(self.process_features)\n        dl = self.calculate_distance(x1, x2)\n        out = self.head(dl)\n        return out\n    \n    def process_features(self, x): return x.reshape(*x.shape[:2], -1).max(-1)[0]\n    def calculate_distance(self, x1, x2): return (x1 - x2).abs_()",
      "execution_count": null,
      "outputs": []
    },
    {
      "metadata": {
        "trusted": true,
        "_uuid": "392f846b008872059101bceb54ace3391e95eda9"
      },
      "cell_type": "code",
      "source": "learn = Learner(data, SiameseNetwork(), loss_func=BCEWithLogitsFlat(), metrics=[lambda preds, targs: accuracy_thresh(preds.squeeze(), targs, sigmoid=False)],model_dir=Path(os.getcwd()))",
      "execution_count": null,
      "outputs": []
    },
    {
      "metadata": {
        "trusted": true,
        "_uuid": "3267f590b62062440a240c63ead558e20d2d2000"
      },
      "cell_type": "code",
      "source": "learn.split([learn.model.cnn[:6], learn.model.cnn[6:], learn.model.head])",
      "execution_count": null,
      "outputs": []
    },
    {
      "metadata": {
        "trusted": true,
        "_uuid": "fd088a414a8c1ce69f9342d89eabeb0a08ea427d"
      },
      "cell_type": "code",
      "source": "learn.freeze_to(-1)",
      "execution_count": null,
      "outputs": []
    },
    {
      "metadata": {
        "trusted": true,
        "_uuid": "8ba2e0d2ef63a0028461cef259bc157c482fe29d"
      },
      "cell_type": "code",
      "source": "learn.lr_find()",
      "execution_count": null,
      "outputs": []
    },
    {
      "metadata": {
        "trusted": true,
        "_uuid": "5b0b2fe908fea54e2b85cf9694a328046c3a85f5"
      },
      "cell_type": "code",
      "source": "learn.recorder.plot()",
      "execution_count": null,
      "outputs": []
    },
    {
      "metadata": {
        "trusted": true,
        "_uuid": "762b67e407903c3b27ddeb8073e7dfdb79fbad17"
      },
      "cell_type": "code",
      "source": "learn.fit_one_cycle(4, 1e-2)",
      "execution_count": null,
      "outputs": []
    },
    {
      "metadata": {
        "trusted": true,
        "_uuid": "266602db6a4312fa2b50dbad47996f0f48f98d6f"
      },
      "cell_type": "code",
      "source": "learn.save(f'{name}-stage-1')\nlearn.unfreeze()\n",
      "execution_count": null,
      "outputs": []
    },
    {
      "metadata": {
        "trusted": true,
        "_uuid": "f3dda0492188c0180df00f601ea3796fb9d0d0ba"
      },
      "cell_type": "code",
      "source": "\nmax_lr = 5e-4\nlrs = [max_lr/100, max_lr/10, max_lr]",
      "execution_count": null,
      "outputs": []
    },
    {
      "metadata": {
        "trusted": true,
        "_uuid": "2dc533388bee17c5406088f5ffcda447fdbc6338"
      },
      "cell_type": "code",
      "source": "learn.fit_one_cycle(10, lrs)",
      "execution_count": null,
      "outputs": []
    }
  ],
  "metadata": {
    "kernelspec": {
      "display_name": "Python 3",
      "language": "python",
      "name": "python3"
    },
    "language_info": {
      "name": "python",
      "version": "3.6.6",
      "mimetype": "text/x-python",
      "codemirror_mode": {
        "name": "ipython",
        "version": 3
      },
      "pygments_lexer": "ipython3",
      "nbconvert_exporter": "python",
      "file_extension": ".py"
    }
  },
  "nbformat": 4,
  "nbformat_minor": 1
}
